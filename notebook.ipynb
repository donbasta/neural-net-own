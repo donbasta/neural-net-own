{
 "cells": [
  {
   "cell_type": "code",
   "execution_count": 1,
   "metadata": {},
   "outputs": [],
   "source": [
    "import main_rnn, main_cnn\n",
    "from icecream import ic\n",
    "import numpy as np"
   ]
  },
  {
   "cell_type": "code",
   "execution_count": 2,
   "metadata": {},
   "outputs": [],
   "source": [
    "from src.layer.dense import Dense\n",
    "from src.layer.lstm import LSTM\n",
    "from src.sequential import Sequential\n",
    "from src.layer.detector import Detector\n",
    "from src.layer.flatten import Flatten\n",
    "from src.layer.pooling import Pooling\n",
    "from src.layer.convolutional import Convolutional"
   ]
  },
  {
   "cell_type": "markdown",
   "metadata": {},
   "source": [
    "## Model"
   ]
  },
  {
   "cell_type": "code",
   "execution_count": 3,
   "metadata": {},
   "outputs": [],
   "source": [
    "window_size=3\n",
    "model = Sequential()\n",
    "model.add(LSTM(input_shape=(window_size, 5), hidden_cell_dim=64, return_sequences=False))\n",
    "model.add(Dense(size=5, input_size=64, activation=\"linear\"))"
   ]
  },
  {
   "cell_type": "code",
   "execution_count": 4,
   "metadata": {},
   "outputs": [
    {
     "name": "stdout",
     "output_type": "stream",
     "text": [
      "-------------------------------------\n",
      "Layer\tOutput Shape\tParam Count\n",
      "lstm\t(64, 1)\t\t17920\n",
      "dense\t5\t\t325\n",
      "Total Params: 18245\n",
      "-------------------------------------\n"
     ]
    }
   ],
   "source": [
    "model.summary()"
   ]
  },
  {
   "cell_type": "markdown",
   "metadata": {},
   "source": [
    "## RNN Experiment"
   ]
  },
  {
   "cell_type": "code",
   "execution_count": 5,
   "metadata": {},
   "outputs": [],
   "source": [
    "def perform_experiment(window_size=5):\n",
    "    train_data_x, _ = main_rnn.get_data(window_size)\n",
    "\n",
    "    model = Sequential()\n",
    "    model.add(LSTM(input_shape=(window_size, 5), hidden_cell_dim=64, return_sequences=False))\n",
    "    model.add(Dense(size=5, input_size=64, activation=\"linear\"))\n",
    "    predictions = model.run(inputs=train_data_x)\n",
    "\n",
    "    ic(predictions)\n",
    "    ic(predictions.shape)\n",
    "\n",
    "    model.save_model(f\"model-lstm-window-{window_size}.json\")"
   ]
  },
  {
   "cell_type": "markdown",
   "metadata": {},
   "source": [
    "### First Experiment"
   ]
  },
  {
   "cell_type": "code",
   "execution_count": 6,
   "metadata": {},
   "outputs": [
    {
     "name": "stdout",
     "output_type": "stream",
     "text": [
      "Finished processing data 500\n",
      "Finished processing data 1000\n",
      "Finished processing data 1500\n",
      "Finished processing data 2000\n",
      "Finished processing data 2500\n",
      "Finished processing data 3000\n",
      "Finished processing data 3500\n",
      "Finished processing data 4000\n",
      "Finished processing data 4500\n",
      "Finished processing data 5000\n",
      "Finished processing data 5500\n",
      "Finished processing data 6000\n",
      "Finished processing data 6500\n",
      "Finished processing data 7000\n",
      "Finished processing data 7500\n",
      "Finished processing data 8000\n",
      "Finished processing data 8500\n",
      "Finished processing data 9000\n",
      "Finished processing data 9500\n"
     ]
    },
    {
     "name": "stderr",
     "output_type": "stream",
     "text": [
      "ic| predictions: array([[36.00006497, 34.84617467, 37.38547231, 30.65414743, 29.86609375],\n",
      "                        [35.99317811, 34.83897122, 37.37905304, 30.64810512, 29.86075089],\n",
      "                        [35.99652988, 34.84248549, 37.38213848, 30.65107447, 29.86335223],\n",
      "                        ...,\n",
      "                        [36.00492336, 34.85146893, 37.39017661, 30.65835527, 29.86973515],\n",
      "                        [36.00179465, 34.84810403, 37.38680709, 30.65570955, 29.86707223],\n",
      "                        [36.00281872, 34.84919295, 37.38788532, 30.65657102, 29.86792673]])\n",
      "ic| predictions.shape: (9641, 5)\n"
     ]
    }
   ],
   "source": [
    "perform_experiment(4)"
   ]
  },
  {
   "cell_type": "markdown",
   "metadata": {},
   "source": [
    "### Second Experiment"
   ]
  },
  {
   "cell_type": "code",
   "execution_count": 7,
   "metadata": {},
   "outputs": [
    {
     "name": "stdout",
     "output_type": "stream",
     "text": [
      "Finished processing data 500\n",
      "Finished processing data 1000\n",
      "Finished processing data 1500\n",
      "Finished processing data 2000\n",
      "Finished processing data 2500\n",
      "Finished processing data 3000\n",
      "Finished processing data 3500\n",
      "Finished processing data 4000\n",
      "Finished processing data 4500\n",
      "Finished processing data 5000\n",
      "Finished processing data 5500\n",
      "Finished processing data 6000\n",
      "Finished processing data 6500\n",
      "Finished processing data 7000\n",
      "Finished processing data 7500\n",
      "Finished processing data 8000\n",
      "Finished processing data 8500\n",
      "Finished processing data 9000\n",
      "Finished processing data 9500\n"
     ]
    },
    {
     "name": "stderr",
     "output_type": "stream",
     "text": [
      "ic| predictions: array([[36.50191619, 27.74988205, 33.30564343, 31.80472772, 33.77352317],\n",
      "                        [36.50191615, 27.74988201, 33.30564339, 31.80472768, 33.77352314],\n",
      "                        [36.50191617, 27.74988203, 33.30564341, 31.8047277 , 33.77352315],\n",
      "                        ...,\n",
      "                        [36.50191621, 27.74988206, 33.30564345, 31.80472774, 33.77352319],\n",
      "                        [36.50191621, 27.74988206, 33.30564345, 31.80472774, 33.77352319],\n",
      "                        [36.50191619, 27.74988205, 33.30564344, 31.80472772, 33.77352318]])\n",
      "ic| predictions.shape: (9635, 5)\n"
     ]
    }
   ],
   "source": [
    "perform_experiment(10)"
   ]
  },
  {
   "cell_type": "markdown",
   "metadata": {},
   "source": []
  },
  {
   "cell_type": "markdown",
   "metadata": {},
   "source": [
    "### Third Experiment"
   ]
  },
  {
   "cell_type": "code",
   "execution_count": 8,
   "metadata": {},
   "outputs": [
    {
     "name": "stdout",
     "output_type": "stream",
     "text": [
      "Finished processing data 500\n",
      "Finished processing data 1000\n",
      "Finished processing data 1500\n",
      "Finished processing data 2000\n",
      "Finished processing data 2500\n",
      "Finished processing data 3000\n",
      "Finished processing data 3500\n",
      "Finished processing data 4000\n",
      "Finished processing data 4500\n",
      "Finished processing data 5000\n",
      "Finished processing data 5500\n",
      "Finished processing data 6000\n",
      "Finished processing data 6500\n",
      "Finished processing data 7000\n",
      "Finished processing data 7500\n",
      "Finished processing data 8000\n",
      "Finished processing data 8500\n",
      "Finished processing data 9000\n",
      "Finished processing data 9500\n"
     ]
    },
    {
     "name": "stderr",
     "output_type": "stream",
     "text": [
      "ic| predictions: array([[33.13306214, 36.9189834 , 29.81428983, 26.03596699, 33.28400286],\n",
      "                        [33.13306214, 36.9189834 , 29.81428983, 26.03596699, 33.28400286],\n",
      "                        [33.13306214, 36.9189834 , 29.81428983, 26.03596699, 33.28400286],\n",
      "                        ...,\n",
      "                        [33.13306214, 36.9189834 , 29.81428983, 26.03596699, 33.28400286],\n",
      "                        [33.13306214, 36.9189834 , 29.81428983, 26.03596699, 33.28400286],\n",
      "                        [33.13306214, 36.9189834 , 29.81428983, 26.03596699, 33.28400286]])\n",
      "ic| predictions.shape: (9625, 5)\n"
     ]
    }
   ],
   "source": [
    "perform_experiment(20)"
   ]
  },
  {
   "cell_type": "markdown",
   "metadata": {},
   "source": [
    "## CNN Experiment"
   ]
  },
  {
   "cell_type": "code",
   "execution_count": 10,
   "metadata": {},
   "outputs": [
    {
     "name": "stdout",
     "output_type": "stream",
     "text": [
      "-------------------------------------\n",
      "Layer\tOutput Shape\tParam Count\n",
      "conv2d\t(254, 254, 2)\t\t4608\n",
      "dtctr\tsame as input\t0\n",
      "max_pool\t(126, 126, 2)\t0\n",
      "avg_pool\t(24, 24, 2)\t0\n",
      "flatten\t1250\t0\n",
      "dense\t10\t\t12510\n",
      "dense\t1\t\t11\n",
      "Total Params: 17129\n",
      "-------------------------------------\n"
     ]
    },
    {
     "name": "stderr",
     "output_type": "stream",
     "text": [
      "ic| predictions: array([[0.93199036],\n",
      "                        [0.93199036],\n",
      "                        [0.93199036]])\n"
     ]
    },
    {
     "data": {
      "text/plain": [
       "array([[0.93199036],\n",
       "       [0.93199036],\n",
       "       [0.93199036]])"
      ]
     },
     "execution_count": 10,
     "metadata": {},
     "output_type": "execute_result"
    }
   ],
   "source": [
    "train_data = main_cnn.get_data()\n",
    "train_x, train_y = train_data[\"x\"], train_data[\"y\"]\n",
    "train_x = np.asarray(train_x)\n",
    "\n",
    "train_x = train_x.reshape((500, 3, 256, 256))\n",
    "\n",
    "train_x = train_x.astype(\"float\")\n",
    "train_x /= 255\n",
    "\n",
    "train_x = train_x[:3]\n",
    "\n",
    "model = Sequential()\n",
    "model.add(\n",
    "    Convolutional(\n",
    "        input_shape=(3, 256, 256),\n",
    "        padding=0,\n",
    "        filter_count=2,\n",
    "        kernel_shape=(3, 3),\n",
    "        stride=1,\n",
    "    )\n",
    ")\n",
    "model.add(Detector(activation=\"relu\"))\n",
    "model.add(Pooling(size=(2, 2), stride=2,\n",
    "            mode=\"max\", input_shape=(254, 254, 2)))\n",
    "model.add(Pooling(size=(5, 5), stride=5,\n",
    "            mode=\"avg\", input_shape=(127, 127, 2)))\n",
    "model.add(Flatten(input_shape=(25, 25, 2)))\n",
    "model.add(Dense(size=10, input_size=1250, activation=\"relu\"))\n",
    "model.add(Dense(size=1, input_size=10, activation=\"sigmoid\"))\n",
    "model.summary()\n",
    "\n",
    "predictions = model.run(inputs=train_x)\n",
    "\n",
    "ic(predictions)"
   ]
  },
  {
   "cell_type": "code",
   "execution_count": null,
   "metadata": {},
   "outputs": [],
   "source": []
  }
 ],
 "metadata": {
  "kernelspec": {
   "display_name": "Python 3",
   "language": "python",
   "name": "python3"
  },
  "language_info": {
   "codemirror_mode": {
    "name": "ipython",
    "version": 3
   },
   "file_extension": ".py",
   "mimetype": "text/x-python",
   "name": "python",
   "nbconvert_exporter": "python",
   "pygments_lexer": "ipython3",
   "version": "3.10.9"
  }
 },
 "nbformat": 4,
 "nbformat_minor": 2
}
